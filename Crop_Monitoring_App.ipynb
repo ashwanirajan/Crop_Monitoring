{
 "cells": [
  {
   "cell_type": "code",
   "execution_count": 333,
   "metadata": {},
   "outputs": [],
   "source": [
    "import matplotlib\n",
    "matplotlib.use('Agg')\n",
    "from matplotlib import pyplot as plt\n",
    "import os\n",
    "import sys\n",
    "import numpy as np\n",
    "import rasterio\n",
    "from rasterio import plot\n",
    "import datetime\n",
    "from sentinelhub import WmsRequest, WcsRequest, MimeType, CRS, BBox , Geometry,CustomUrlParam\n",
    "from shapely.geometry import Polygon\n",
    "from IPython.display import Javascript, display\n",
    "from ipywidgets import widgets,Layout\n",
    "from PIL import Image\n",
    "\n",
    "# def run_all(ev):\n",
    "#     display(Javascript('IPython.notebook.execute_cells_below()'))\n",
    "\n",
    "#from osgeo import gdal"
   ]
  },
  {
   "cell_type": "code",
   "execution_count": 334,
   "metadata": {},
   "outputs": [],
   "source": [
    "# INSTANCE_ID = '4e90288f-9ccd-4841-9ae5-db857a41c493'"
   ]
  },
  {
   "cell_type": "code",
   "execution_count": 335,
   "metadata": {},
   "outputs": [],
   "source": [
    "from sentinelhub import SHConfig\n",
    "\n",
    "\n",
    "INSTANCE_ID = '74b3a3d5-14d7-4af0-b08c-d579e0ff2c21'  # In case you put instance ID into configuration file you can leave this unchanged\n",
    "\n",
    "if INSTANCE_ID:\n",
    "    config = SHConfig()\n",
    "    config.instance_id = INSTANCE_ID\n",
    "else:\n",
    "    config = None"
   ]
  },
  {
   "cell_type": "markdown",
   "metadata": {},
   "source": [
    "# Crop Monitoring Application"
   ]
  },
  {
   "cell_type": "code",
   "execution_count": 336,
   "metadata": {},
   "outputs": [],
   "source": [
    "def plot_image(image, factor=1):\n",
    "    \"\"\"\n",
    "    Utility function for plotting RGB images.\n",
    "    \"\"\"\n",
    "    fig = plt.subplots(nrows=1, ncols=2, figsize=(15, 7))\n",
    "\n",
    "    if np.issubdtype(image.dtype, np.floating):\n",
    "        plt.imshow(np.minimum(image * factor, 1))\n",
    "    else:\n",
    "        plt.imshow(image)"
   ]
  },
  {
   "cell_type": "markdown",
   "metadata": {},
   "source": [
    "### Enter your Top-Left and Bottom-right coordinates here."
   ]
  },
  {
   "cell_type": "code",
   "execution_count": 337,
   "metadata": {},
   "outputs": [],
   "source": [
    "\n",
    "top_left_x = widgets.FloatText(\n",
    "    #value=-122.194405,\n",
    "    description='X:',\n",
    "    disabled=False\n",
    ")\n",
    "top_left_y = widgets.FloatText(\n",
    "    #value=39.624598,\n",
    "    description='Y:',\n",
    "    disabled=False\n",
    ")\n",
    "bottom_right_x = widgets.FloatText(\n",
    "    #value=-122.117157,\n",
    "    description='X:',\n",
    "    disabled=False\n",
    ")\n",
    "bottom_right_y = widgets.FloatText(\n",
    "    #value=39.583069,\n",
    "    description='Y:',\n",
    "    disabled=False\n",
    ")"
   ]
  },
  {
   "cell_type": "code",
   "execution_count": null,
   "metadata": {},
   "outputs": [],
   "source": []
  },
  {
   "cell_type": "markdown",
   "metadata": {},
   "source": [
    "#### 1. Top-Left Coordinates:"
   ]
  },
  {
   "cell_type": "code",
   "execution_count": 338,
   "metadata": {},
   "outputs": [
    {
     "data": {
      "application/vnd.jupyter.widget-view+json": {
       "model_id": "118ff8cfaa9e4a2b94181ca1976b5fcb",
       "version_major": 2,
       "version_minor": 0
      },
      "text/plain": [
       "FloatText(value=0.0, description='X:')"
      ]
     },
     "metadata": {},
     "output_type": "display_data"
    }
   ],
   "source": [
    "top_left_x"
   ]
  },
  {
   "cell_type": "code",
   "execution_count": 339,
   "metadata": {},
   "outputs": [
    {
     "data": {
      "application/vnd.jupyter.widget-view+json": {
       "model_id": "a2353f65f1f44d3fb6d3f9462506a3af",
       "version_major": 2,
       "version_minor": 0
      },
      "text/plain": [
       "FloatText(value=0.0, description='Y:')"
      ]
     },
     "metadata": {},
     "output_type": "display_data"
    }
   ],
   "source": [
    "top_left_y"
   ]
  },
  {
   "cell_type": "markdown",
   "metadata": {},
   "source": [
    "#### 2. Bottom-right Coordinates:"
   ]
  },
  {
   "cell_type": "code",
   "execution_count": 340,
   "metadata": {},
   "outputs": [
    {
     "data": {
      "application/vnd.jupyter.widget-view+json": {
       "model_id": "e6c3db465fc04ba4806dc4a7d0b778e2",
       "version_major": 2,
       "version_minor": 0
      },
      "text/plain": [
       "FloatText(value=0.0, description='X:')"
      ]
     },
     "metadata": {},
     "output_type": "display_data"
    }
   ],
   "source": [
    "bottom_right_x"
   ]
  },
  {
   "cell_type": "code",
   "execution_count": 342,
   "metadata": {},
   "outputs": [
    {
     "data": {
      "application/vnd.jupyter.widget-view+json": {
       "model_id": "f3c1a67968a24d70977620766ef23fb5",
       "version_major": 2,
       "version_minor": 0
      },
      "text/plain": [
       "FloatText(value=39.583069, description='Y:')"
      ]
     },
     "metadata": {},
     "output_type": "display_data"
    }
   ],
   "source": [
    "bottom_right_y"
   ]
  },
  {
   "cell_type": "code",
   "execution_count": 344,
   "metadata": {},
   "outputs": [],
   "source": [
    "# print(top_left_x.value)\n",
    "# print(top_left_y.value)\n",
    "# print(bottom_right_y.value)\n",
    "# print(bottom_right_x.value)"
   ]
  },
  {
   "cell_type": "code",
   "execution_count": 345,
   "metadata": {},
   "outputs": [],
   "source": [
    "out_pl = widgets.Output()"
   ]
  },
  {
   "cell_type": "markdown",
   "metadata": {},
   "source": [
    "#### Sample coordinates:\n",
    "1.  chico_coords_wgs84 = [-122.194405, 39.624598, -122.117157, 39.583069]\n",
    "2.  betsiboka_coords_wgs84 = [80.209067, 21.369876, 80.215933, 21.359038]\n",
    "3.  betsiboka_coords_wgs842 = [46.16, -16.15, 47.01, -15.58]\n",
    "\n"
   ]
  },
  {
   "cell_type": "code",
   "execution_count": 346,
   "metadata": {},
   "outputs": [],
   "source": [
    "#input_coords_wgs84 = [top_left_x.value,top_left_y.value,bottom_right_x.value, bottom_right_y.value]\n",
    "# betsiboka_coords_wgs84 = [46.16, -16.15, 47.01, -15.58]\n",
    "\n",
    "\n",
    "# chico_coords_wgs84 = [-122.194405, 39.624598, -122.117157, 39.583069]\n",
    "# betsiboka_coords_wgs84 = [80.209067, 21.369876, 80.215933, 21.359038]\n",
    "# betsiboka_coords_wgs84 = [46.16, -16.15, 47.01, -15.58]\n",
    "# betsiboka_coords_wgs84 = [-122.194405, 39.624598, -122.117157, 39.583069]\n",
    "#betsiboka_coords_wgs84 = [1292344.0 ,5205055.5 ,1310615.0 ,5205055.5]"
   ]
  },
  {
   "cell_type": "code",
   "execution_count": 347,
   "metadata": {},
   "outputs": [],
   "source": [
    "#input_bbox = BBox(bbox=input_coords_wgs84, crs=CRS.WGS84)"
   ]
  },
  {
   "cell_type": "code",
   "execution_count": 348,
   "metadata": {},
   "outputs": [],
   "source": [
    "from sentinelhub import WmsRequest, WcsRequest, MimeType, CRS, BBox\n",
    "\n",
    "def Run_this(change):\n",
    "    \n",
    "    \n",
    "    input_coords_wgs84 = [top_left_x.value,top_left_y.value,bottom_right_x.value, bottom_right_y.value]\n",
    "    input_bbox = BBox(bbox=input_coords_wgs84, crs=CRS.WGS84)\n",
    "    \n",
    "    print(input_coords_wgs84)\n",
    "    \n",
    "    wms_true_color_request = WmsRequest(\n",
    "        layer='TRUE-COLOR-S2-L1C',\n",
    "        bbox=input_bbox,\n",
    "        time=('2017-12-01', '2017-12-31'),\n",
    "        width=512, height=856,\n",
    "        maxcc=0.3,\n",
    "        config=config \n",
    "    )\n",
    "    wms_bands_request = WcsRequest(\n",
    "    layer='BANDS-S2-L1C',\n",
    "    bbox=input_bbox,\n",
    "    time='latest',\n",
    "    resx='10m',\n",
    "    resy='10m',\n",
    "    maxcc=0.1,\n",
    "    image_format=MimeType.TIFF_d32f,\n",
    "    config=config,\n",
    "    #custom_url_params={\n",
    "    #    CustomUrlParam.GEOMETRY: \"POLYGON((13.522606 -86.160791,13.522462 -86.160989,13.522387 -86.161045,13.522316 -86.161049,13.522236 -86.16109,13.522079 -86.161024,13.521843 -86.161166,13.521601 -86.161072,13.521576 -86.161009,13.52146 -86.16105,13.521368 -86.160921,13.521312 -86.160904,13.521313 -86.160778,13.521438 -86.160657,13.521674 -86.160649,13.521895 -86.160569,13.522006 -86.160512,13.522087 -86.160532,13.522288 -86.1606,13.522346 -86.160557,13.522391 -86.160526,13.522522 -86.160499,13.522622 -86.160463,13.522696 -86.160418,13.522643 -86.160602,13.522608 -86.160696,13.522606 -86.160791))\"\n",
    "    #}\n",
    "    )\n",
    "    \n",
    "    wms_bands_img = wms_bands_request.get_data()\n",
    "    img = wms_bands_img[-1][:, :, [3, 2, 1]]\n",
    "\n",
    "\n",
    "    \n",
    "    red = np.array(wms_bands_img[-1][:, :, 3])\n",
    "    nir = np.array(wms_bands_img[-1][:, :, 7])\n",
    "    ndvi = np.divide(np.subtract(red, nir), np.add(red, nir))\n",
    "    \n",
    "    b = np.where(np.isnan(ndvi), 0, ndvi)\n",
    "\n",
    "    fig, axs = plt.subplots(nrows=1, ncols=2, figsize=(20,20))\n",
    "    image = wms_bands_img[-1][:, :, [3, 2, 1]]\n",
    "    factor = 1\n",
    "    if np.issubdtype(image.dtype, np.floating):\n",
    "        axs[0].imshow(np.minimum(image * factor, 1))\n",
    "        axs[0].set_title('Actual Image')\n",
    "    else:\n",
    "        axs[0].imshow(image)\n",
    "        axs[0].set_title('Actual Image')\n",
    "\n",
    "    axs[1].imshow(b, cmap = matplotlib.colors.LinearSegmentedColormap.from_list(\"\", [\"green\",\"yellow\",\"red\"])) # Typically the color map for NDVI maps are the Red to Yellow to Green\n",
    "    axs[1].set_title('NDVI')\n",
    "    \n",
    "    fig = plt.gcf()\n",
    "    fig.set_size_inches(20,20)\n",
    "    fig.savefig(\"full_figure.png\", bbox_inches='tight')\n",
    "    plt.close(fig)\n",
    "    \n",
    "    image_final = Image.open('full_figure.png')\n",
    "    \n",
    "    out_pl.clear_output()\n",
    "    \n",
    "    with out_pl: \n",
    "        display(image_final)"
   ]
  },
  {
   "cell_type": "code",
   "execution_count": 349,
   "metadata": {},
   "outputs": [],
   "source": [
    "#Run_this()"
   ]
  },
  {
   "cell_type": "code",
   "execution_count": 350,
   "metadata": {},
   "outputs": [],
   "source": [
    "button = widgets.Button(description=\"Run\", \n",
    "                        layout=Layout(width='50%', height='80px'), button_style = 'info')\n",
    "button.on_click(Run_this)\n"
   ]
  },
  {
   "cell_type": "code",
   "execution_count": 351,
   "metadata": {},
   "outputs": [],
   "source": [
    "#Run_this(1)"
   ]
  },
  {
   "cell_type": "code",
   "execution_count": 352,
   "metadata": {},
   "outputs": [
    {
     "data": {
      "application/vnd.jupyter.widget-view+json": {
       "model_id": "9ec6ab37037b43eaa48574ccf633a24f",
       "version_major": 2,
       "version_minor": 0
      },
      "text/plain": [
       "VBox(children=(Button(button_style='info', description='Run', layout=Layout(height='80px', width='50%'), style…"
      ]
     },
     "metadata": {},
     "output_type": "display_data"
    },
    {
     "name": "stdout",
     "output_type": "stream",
     "text": [
      "[-122.194405, 39.624598, -122.117157, 39.583069]\n"
     ]
    }
   ],
   "source": [
    "widgets.VBox([button, out_pl])\n"
   ]
  },
  {
   "cell_type": "code",
   "execution_count": 102,
   "metadata": {},
   "outputs": [],
   "source": [
    "#wms_bands_img[0].shape"
   ]
  },
  {
   "cell_type": "code",
   "execution_count": 103,
   "metadata": {},
   "outputs": [],
   "source": []
  },
  {
   "cell_type": "code",
   "execution_count": 331,
   "metadata": {},
   "outputs": [],
   "source": [
    "\n",
    "# plt.show()\n",
    "    \n",
    "#plot_image(wms_bands_img[-1][:, :, [3, 2, 1]])"
   ]
  },
  {
   "cell_type": "code",
   "execution_count": 105,
   "metadata": {},
   "outputs": [],
   "source": [
    "# fig = plt.figure(figsize=(10, 10))\n",
    "# fig.set_facecolor('white')\n",
    "# plt.imshow(b, cmap = matplotlib.colors.LinearSegmentedColormap.from_list(\"\", [\"green\",\"yellow\",\"red\"])) # Typically the color map for NDVI maps are the Red to Yellow to Green\n",
    "# plt.title('NDVI')\n",
    "# plt.show()"
   ]
  },
  {
   "cell_type": "code",
   "execution_count": null,
   "metadata": {},
   "outputs": [],
   "source": []
  }
 ],
 "metadata": {
  "kernelspec": {
   "display_name": "Python 3",
   "language": "python",
   "name": "python3"
  },
  "language_info": {
   "codemirror_mode": {
    "name": "ipython",
    "version": 3
   },
   "file_extension": ".py",
   "mimetype": "text/x-python",
   "name": "python",
   "nbconvert_exporter": "python",
   "pygments_lexer": "ipython3",
   "version": "3.7.3"
  }
 },
 "nbformat": 4,
 "nbformat_minor": 2
}
